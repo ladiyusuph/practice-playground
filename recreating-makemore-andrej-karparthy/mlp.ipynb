{
 "cells": [
  {
   "cell_type": "code",
   "execution_count": 1,
   "id": "8371a274-a7b7-427c-8f89-849275769612",
   "metadata": {},
   "outputs": [],
   "source": [
    "#Importing requird libraries\n",
    "import torch\n",
    "import torch.nn.functional as F\n",
    "import matplotlib.pyplot as plt\n",
    "%matplotlib inline"
   ]
  },
  {
   "cell_type": "code",
   "execution_count": 2,
   "id": "fa1f8bc7-79f4-4840-aae5-1c62556bf1a1",
   "metadata": {},
   "outputs": [
    {
     "data": {
      "text/plain": [
       "32033"
      ]
     },
     "execution_count": 2,
     "metadata": {},
     "output_type": "execute_result"
    }
   ],
   "source": [
    "#reading the words\n",
    "words = open('names.txt', 'r').read().splitlines()\n",
    "len(words)"
   ]
  },
  {
   "cell_type": "code",
   "execution_count": 3,
   "id": "9cfc5c3b-c998-4c59-b807-8279548dec3c",
   "metadata": {},
   "outputs": [
    {
     "name": "stdout",
     "output_type": "stream",
     "text": [
      "{1: 'a', 2: 'b', 3: 'c', 4: 'd', 5: 'e', 6: 'f', 7: 'g', 8: 'h', 9: 'i', 10: 'j', 11: 'k', 12: 'l', 13: 'm', 14: 'n', 15: 'o', 16: 'p', 17: 'q', 18: 'r', 19: 's', 20: 't', 21: 'u', 22: 'v', 23: 'w', 24: 'x', 25: 'y', 26: 'z', 0: '.'}\n"
     ]
    }
   ],
   "source": [
    "#Building vocab\n",
    "chars = sorted(list(set(''.join(words))))\n",
    "stoi  = {s:i+1 for i,s in enumerate(chars)}\n",
    "stoi['.'] = 0\n",
    "itos = {i:s for s,i in stoi.items()}\n",
    "print(itos)"
   ]
  },
  {
   "cell_type": "code",
   "execution_count": 7,
   "id": "5e912c8f-b148-42c1-aac5-015f98fb3f2d",
   "metadata": {},
   "outputs": [],
   "source": [
    "#Building the dataset\n",
    "block_size = 3\n",
    "X, Y = [], []\n",
    "for w in words:\n",
    "    #print(w)\n",
    "    context = [0] * block_size\n",
    "    for ch in w + \".\":\n",
    "        ix = stoi[ch]\n",
    "        X.append(context)\n",
    "        Y.append(ix)\n",
    "        #print(''.join(itos[i] for i in context), '--->', itos[ix])\n",
    "        context = context[1:] + [ix]\n",
    "\n",
    "X = torch.tensor(X)\n",
    "Y = torch.tensor(Y)"
   ]
  },
  {
   "cell_type": "code",
   "execution_count": 8,
   "id": "84329d36-cb9d-48f5-94cf-2d39837ef032",
   "metadata": {},
   "outputs": [
    {
     "data": {
      "text/plain": [
       "(torch.Size([228146, 3]), torch.Size([228146]))"
      ]
     },
     "execution_count": 8,
     "metadata": {},
     "output_type": "execute_result"
    }
   ],
   "source": [
    "X.shape, Y.shape"
   ]
  },
  {
   "cell_type": "code",
   "execution_count": 9,
   "id": "2968b7c6-6c80-4fe7-b3fc-fc33c7d8b2f5",
   "metadata": {},
   "outputs": [
    {
     "name": "stdout",
     "output_type": "stream",
     "text": [
      "torch.Size([182441, 3]), torch.Size([182441])\n",
      "torch.Size([22902, 3]), torch.Size([22902])\n",
      "torch.Size([22803, 3]), torch.Size([22803])\n"
     ]
    }
   ],
   "source": [
    "#Building train, dev/validation, test data\n",
    "def build_dataset(words):\n",
    "    #Building the dataset\n",
    "    block_size = 3\n",
    "    X, Y = [], []\n",
    "    for w in words:\n",
    "        #print(w)\n",
    "        context = [0] * block_size\n",
    "        for ch in w + \".\":\n",
    "            ix = stoi[ch]\n",
    "            X.append(context)\n",
    "            Y.append(ix)\n",
    "            #print(''.join(itos[i] for i in context), '--->', itos[ix])\n",
    "            context = context[1:] + [ix]\n",
    "    \n",
    "    X = torch.tensor(X)\n",
    "    Y = torch.tensor(Y)\n",
    "    print(f\"{X.shape}, {Y.shape}\")\n",
    "    return X, Y\n",
    "\n",
    "import random\n",
    "random.seed(42)\n",
    "random.shuffle(words)\n",
    "n1 = int(0.8 * len(words))\n",
    "n2 = int(0.9 * len(words))\n",
    "\n",
    "X_train, y_train = build_dataset(words[:n1])\n",
    "X_dev, y_dev = build_dataset(words[n1:n2])\n",
    "X_test, y_test = build_dataset(words[n2:])"
   ]
  },
  {
   "cell_type": "code",
   "execution_count": 6,
   "id": "ed32dd1d-b5f3-4534-87d8-1fe5c34660e0",
   "metadata": {},
   "outputs": [
    {
     "data": {
      "text/plain": [
       "torch.Size([32, 3, 2])"
      ]
     },
     "execution_count": 6,
     "metadata": {},
     "output_type": "execute_result"
    }
   ],
   "source": [
    "#Embeddings\n",
    "c = torch.randn((27,2))\n",
    "emb = c[X]\n",
    "emb.shape"
   ]
  },
  {
   "cell_type": "code",
   "execution_count": 7,
   "id": "e66b75cb-75a6-4b9c-a241-19bbc34c044a",
   "metadata": {},
   "outputs": [],
   "source": [
    "W1 = torch.randn((6,100))\n",
    "b1 = torch.randn(100)"
   ]
  },
  {
   "cell_type": "code",
   "execution_count": 8,
   "id": "5dfbada2-8c31-4e86-a77e-288a76991804",
   "metadata": {},
   "outputs": [],
   "source": [
    "h = torch.tanh(emb.view(emb.shape[0],6) @ W1 + b1)"
   ]
  },
  {
   "cell_type": "code",
   "execution_count": 9,
   "id": "5a8bc497-9a23-42ee-bda0-c419f6d64453",
   "metadata": {},
   "outputs": [
    {
     "data": {
      "text/plain": [
       "torch.Size([32, 100])"
      ]
     },
     "execution_count": 9,
     "metadata": {},
     "output_type": "execute_result"
    }
   ],
   "source": [
    "h.shape"
   ]
  },
  {
   "cell_type": "code",
   "execution_count": 10,
   "id": "7a321a2a-5d9b-4016-a9b0-4edcd4add1d1",
   "metadata": {},
   "outputs": [],
   "source": [
    "W2 = torch.randn((100,27))\n",
    "b2 = torch.randn(27)"
   ]
  },
  {
   "cell_type": "code",
   "execution_count": 11,
   "id": "aea5e447-70b2-411a-aaf8-ce0b677ce5bf",
   "metadata": {},
   "outputs": [],
   "source": [
    "logits = h @ W2 + b2"
   ]
  },
  {
   "cell_type": "code",
   "execution_count": 12,
   "id": "fa07c190-03b2-4642-adf9-0c6cbaaac2bb",
   "metadata": {},
   "outputs": [
    {
     "data": {
      "text/plain": [
       "torch.Size([32, 27])"
      ]
     },
     "execution_count": 12,
     "metadata": {},
     "output_type": "execute_result"
    }
   ],
   "source": [
    "logits.shape"
   ]
  },
  {
   "cell_type": "code",
   "execution_count": 13,
   "id": "bb3f75a9-09cc-4202-943d-963f37f6a133",
   "metadata": {},
   "outputs": [],
   "source": [
    "counts = logits.exp()"
   ]
  },
  {
   "cell_type": "code",
   "execution_count": 14,
   "id": "b4c1f20e-759b-4252-a166-db67eefeba8a",
   "metadata": {},
   "outputs": [],
   "source": [
    "prob = counts / counts.sum(1, keepdims=True)"
   ]
  },
  {
   "cell_type": "code",
   "execution_count": 15,
   "id": "e49bc6ca-1b29-40d1-9769-b949d7888001",
   "metadata": {},
   "outputs": [
    {
     "data": {
      "text/plain": [
       "torch.Size([32, 27])"
      ]
     },
     "execution_count": 15,
     "metadata": {},
     "output_type": "execute_result"
    }
   ],
   "source": [
    "prob.shape"
   ]
  },
  {
   "cell_type": "code",
   "execution_count": 16,
   "id": "f5f774a6-2042-4fb5-8c37-57bc161728cb",
   "metadata": {},
   "outputs": [
    {
     "data": {
      "text/plain": [
       "tensor(1.0000)"
      ]
     },
     "execution_count": 16,
     "metadata": {},
     "output_type": "execute_result"
    }
   ],
   "source": [
    "prob[0].sum()"
   ]
  },
  {
   "cell_type": "code",
   "execution_count": 21,
   "id": "36ffd6ba-e3af-4ed8-ab61-46eacf53cbeb",
   "metadata": {},
   "outputs": [
    {
     "data": {
      "text/plain": [
       "tensor(15.5140)"
      ]
     },
     "execution_count": 21,
     "metadata": {},
     "output_type": "execute_result"
    }
   ],
   "source": [
    "loss = -prob[torch.arange(32), Y].log().mean()\n",
    "loss"
   ]
  },
  {
   "cell_type": "code",
   "execution_count": null,
   "id": "79ba1394-ac6a-413c-8627-0b2b02637156",
   "metadata": {},
   "outputs": [],
   "source": [
    "##Implementing"
   ]
  },
  {
   "cell_type": "code",
   "execution_count": 76,
   "id": "da977bb7-fdae-4d95-b775-a8fb1121bcaf",
   "metadata": {},
   "outputs": [
    {
     "data": {
      "text/plain": [
       "(torch.Size([228146, 3]), torch.Size([228146]))"
      ]
     },
     "execution_count": 76,
     "metadata": {},
     "output_type": "execute_result"
    }
   ],
   "source": [
    "X.shape, Y.shape"
   ]
  },
  {
   "cell_type": "code",
   "execution_count": 32,
   "id": "6ffd71b5-c5ca-47f4-98a6-971667d9e059",
   "metadata": {},
   "outputs": [],
   "source": [
    "#Parameters\n",
    "g = torch.Generator().manual_seed(442) # for reproducibility\n",
    "C = torch.randn((27,10), generator = g)\n",
    "W1 = torch.randn((30,200), generator = g)\n",
    "b1 = torch.randn(200, generator = g)\n",
    "W2 = torch.randn((200,27), generator = g)\n",
    "b2 = torch.randn(27, generator = g)\n",
    "parameters = [C, W1, b1, W2, b2]"
   ]
  },
  {
   "cell_type": "code",
   "execution_count": 33,
   "id": "608dcc18-e197-4d39-98a2-1090c1d859c3",
   "metadata": {},
   "outputs": [
    {
     "data": {
      "text/plain": [
       "11897"
      ]
     },
     "execution_count": 33,
     "metadata": {},
     "output_type": "execute_result"
    }
   ],
   "source": [
    "sum(p.nelement() for p in parameters) #total number of parameters"
   ]
  },
  {
   "cell_type": "code",
   "execution_count": 34,
   "id": "db70c105-a99a-4a36-b1bd-ddc1ca6f8581",
   "metadata": {},
   "outputs": [],
   "source": [
    "for p in parameters:\n",
    "    p.requires_grad = True"
   ]
  },
  {
   "cell_type": "code",
   "execution_count": 15,
   "id": "66b4b409-d215-4537-a0f6-1fa6d1853c97",
   "metadata": {},
   "outputs": [],
   "source": [
    "lre = torch.linspace(-3,0,1000)\n",
    "lrs = 10**lre"
   ]
  },
  {
   "cell_type": "code",
   "execution_count": 35,
   "id": "88cdeacf-9043-49a3-a054-77d54b6dfd92",
   "metadata": {},
   "outputs": [],
   "source": [
    "lri = []\n",
    "lossi = []\n",
    "stepi = []"
   ]
  },
  {
   "cell_type": "code",
   "execution_count": 36,
   "id": "7770c5cd-988f-4086-92de-6a43c06883f7",
   "metadata": {},
   "outputs": [],
   "source": [
    "for i in range(50000):\n",
    "    #minibatch construct\n",
    "    ix = torch.randint(0, X_train.shape[0], (32,))\n",
    "    \n",
    "    #Forward pass\n",
    "    emb = C[X_train[ix]] #32,3,2\n",
    "    h = torch.tanh(emb.view(-1,30) @ W1 + b1) # 32, 100\n",
    "    logits = h@ W2 + b2\n",
    "    loss = F.cross_entropy(logits, y_train[ix])\n",
    "    #print(loss.item())\n",
    "    #Backward pass\n",
    "    for p in parameters:\n",
    "        p.grad = None\n",
    "    loss.backward()\n",
    "    #Update\n",
    "    #lr = lrs[i]\n",
    "    lr = 0.1\n",
    "    for p in parameters:\n",
    "        p.data += -lr * p.grad\n",
    "\n",
    "    #track stats\n",
    "    #lri.append(lre[i])\n",
    "    stepi.append(i)\n",
    "    lossi.append(loss.log10().item())\n",
    "#print(loss.item())"
   ]
  },
  {
   "cell_type": "code",
   "execution_count": 29,
   "id": "c5957020-61d6-4cdb-8489-96f32f99c271",
   "metadata": {},
   "outputs": [
    {
     "data": {
      "text/plain": [
       "tensor(2.5355, grad_fn=<NllLossBackward0>)"
      ]
     },
     "execution_count": 29,
     "metadata": {},
     "output_type": "execute_result"
    }
   ],
   "source": [
    "emb = C[X_dev] #32,3,2\n",
    "h = torch.tanh(emb.view(-1,6) @ W1 + b1) # 32, 100\n",
    "logits = h @ W2 + b2\n",
    "loss = F.cross_entropy(logits, y_dev)\n",
    "loss"
   ]
  },
  {
   "cell_type": "code",
   "execution_count": 30,
   "id": "bcf0f4b7-1fa3-45b4-ad90-6da6df5fcb1d",
   "metadata": {},
   "outputs": [
    {
     "data": {
      "image/png": "[encoded data removed]",
      "text/plain": [
       "<Figure size 800x800 with 1 Axes>"
      ]
     },
     "metadata": {},
     "output_type": "display_data"
    }
   ],
   "source": [
    "#Visualizing the embeddings\n",
    "plt.figure(figsize=(8,8))\n",
    "plt.scatter(C[:,0].data, C[:,1].data, s=200)\n",
    "for i in range(C.shape[0]):\n",
    "    plt.text(C[i,0].item(), C[i,1].item(), itos[i], ha='center', va='center', color='white')\n",
    "plt.grid('minor');\n",
    "             "
   ]
  },
  {
   "cell_type": "code",
   "execution_count": 43,
   "id": "8187dd19-bc25-41ea-87f8-013b99233653",
   "metadata": {},
   "outputs": [
    {
     "name": "stdout",
     "output_type": "stream",
     "text": [
      "eushawvoru.\n",
      "jero.\n",
      "bro.\n",
      "ana.\n",
      "yellasmyrienia.\n",
      "suma.\n",
      "deyus.\n",
      "takellismon.\n",
      "kaysiaha.\n",
      "jael.\n",
      "doleyser.\n",
      "zeoseuntyah.\n",
      "wianny.\n",
      "aden.\n",
      "gab.\n",
      "panhah.\n",
      "cayden.\n",
      "alayrincele.\n",
      "vah.\n",
      "jaley.\n"
     ]
    }
   ],
   "source": [
    "#Sample from the model\n",
    "g = torch.Generator().manual_seed(442)\n",
    "for _ in range(20):\n",
    "    out = []\n",
    "    context = [0] * block_size #Initializing step\n",
    "    while True:\n",
    "        emb = C[torch.tensor([context])]\n",
    "        h = torch.tanh(emb.view(-1,30) @ W1 + b1) # 32, 100\n",
    "        logits = h@ W2 + b2\n",
    "        probs = F.softmax(logits, dim=1)\n",
    "        ix = torch.multinomial(probs, num_samples=1, generator=g).item()\n",
    "        context = context[1:] + [ix]\n",
    "        out.append(ix)\n",
    "        if ix ==0:\n",
    "            break\n",
    "            \n",
    "    print(''.join(itos[i] for i in out))\n",
    "        "
   ]
  },
  {
   "cell_type": "code",
   "execution_count": null,
   "id": "3cdbb700-89b1-4588-89e6-2fd1c230bc39",
   "metadata": {},
   "outputs": [],
   "source": []
  },
  {
   "cell_type": "code",
   "execution_count": 83,
   "id": "9958e65b-4525-4db7-a338-42f1adf77c58",
   "metadata": {},
   "outputs": [
    {
     "data": {
      "image/png": "[encoded data removed]",
      "text/plain": [
       "<Figure size 640x480 with 1 Axes>"
      ]
     },
     "metadata": {},
     "output_type": "display_data"
    }
   ],
   "source": [
    "plt.plot(lri, lossi);"
   ]
  },
  {
   "cell_type": "code",
   "execution_count": null,
   "id": "f89a7b33-cb6d-4136-ad77-772c27d3c5ab",
   "metadata": {},
   "outputs": [],
   "source": []
  },
  {
   "cell_type": "code",
   "execution_count": null,
   "id": "db700c5d-4f2d-4d31-94d4-9e9aad91ab0d",
   "metadata": {},
   "outputs": [],
   "source": []
  },
  {
   "cell_type": "code",
   "execution_count": null,
   "id": "5df69987-91e8-4b9c-9429-1ed2a48de0bb",
   "metadata": {},
   "outputs": [],
   "source": []
  },
  {
   "cell_type": "code",
   "execution_count": null,
   "id": "6d62b698-2260-457f-a9a5-8d2de833fc2b",
   "metadata": {},
   "outputs": [],
   "source": []
  }
 ],
 "metadata": {
  "kernelspec": {
   "display_name": "Python 3 (ipykernel)",
   "language": "python",
   "name": "python3"
  },
  "language_info": {
   "codemirror_mode": {
    "name": "ipython",
    "version": 3
   },
   "file_extension": ".py",
   "mimetype": "text/x-python",
   "name": "python",
   "nbconvert_exporter": "python",
   "pygments_lexer": "ipython3",
   "version": "3.11.4"
  }
 },
 "nbformat": 4,
 "nbformat_minor": 5
}
